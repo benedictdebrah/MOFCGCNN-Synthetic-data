{
 "cells": [
  {
   "cell_type": "code",
   "execution_count": 1,
   "metadata": {},
   "outputs": [
    {
     "name": "stdout",
     "output_type": "stream",
     "text": [
      "1.11.0\n"
     ]
    }
   ],
   "source": [
    "import sdv\n",
    "import pandas as pd\n",
    "\n",
    "print(sdv.version.public)"
   ]
  },
  {
   "cell_type": "code",
   "execution_count": 2,
   "metadata": {},
   "outputs": [],
   "source": [
    "# import zipfile\n",
    "# import os\n",
    "# zip_path = 'drive-download-20240323T140328Z-001.zip'\n",
    "# extract_path = os.getcwd()\n",
    "\n",
    "# with zipfile.ZipFile(zip_path, 'r') as zip_ref:\n",
    "#     zip_ref.extractall(extract_path)\n"
   ]
  },
  {
   "cell_type": "markdown",
   "metadata": {},
   "source": [
    "### Loading the data"
   ]
  },
  {
   "cell_type": "code",
   "execution_count": 3,
   "metadata": {},
   "outputs": [],
   "source": [
    "#viewing the data we have\n",
    "train = pd.read_csv('train.csv')\n",
    "test = pd.read_csv('test.csv')\n",
    "validation = pd.read_csv('validation.csv')\n",
    "hmof = pd.read_csv('hmof.csv')\n",
    "\n",
    "# if  a single df\n",
    "# data = pd.read_csv('data.csv')"
   ]
  },
  {
   "cell_type": "markdown",
   "metadata": {},
   "source": [
    "<li> I think this notebook will help in synthesizing our data\n",
    "<li> Our data should not be divided (i mean we should have a single df that contains (train,test, validation) after we do the split)\n",
    "<li>Problem : we need to try and find a way of making our hmof ids unique and same (cos this ids .cifs are the ones available , different onece will cause a problem)"
   ]
  },
  {
   "cell_type": "code",
   "execution_count": 4,
   "metadata": {},
   "outputs": [
    {
     "data": {
      "text/html": [
       "<div>\n",
       "<style scoped>\n",
       "    .dataframe tbody tr th:only-of-type {\n",
       "        vertical-align: middle;\n",
       "    }\n",
       "\n",
       "    .dataframe tbody tr th {\n",
       "        vertical-align: top;\n",
       "    }\n",
       "\n",
       "    .dataframe thead th {\n",
       "        text-align: right;\n",
       "    }\n",
       "</style>\n",
       "<table border=\"1\" class=\"dataframe\">\n",
       "  <thead>\n",
       "    <tr style=\"text-align: right;\">\n",
       "      <th></th>\n",
       "      <th>hMOF-21761</th>\n",
       "      <th>1.4469189829363254</th>\n",
       "      <th>1.0116009116784799</th>\n",
       "      <th>-1.2196517457139742</th>\n",
       "      <th>5.5258512661635395</th>\n",
       "      <th>-1.8613410854197348</th>\n",
       "    </tr>\n",
       "  </thead>\n",
       "  <tbody>\n",
       "    <tr>\n",
       "      <th>0</th>\n",
       "      <td>hMOF-6005116</td>\n",
       "      <td>1.321756</td>\n",
       "      <td>0.810930</td>\n",
       "      <td>-2.301835</td>\n",
       "      <td>4.730921</td>\n",
       "      <td>-1.781057</td>\n",
       "    </tr>\n",
       "    <tr>\n",
       "      <th>1</th>\n",
       "      <td>hMOF-5015132</td>\n",
       "      <td>1.749200</td>\n",
       "      <td>1.178655</td>\n",
       "      <td>-0.678929</td>\n",
       "      <td>6.767228</td>\n",
       "      <td>0.474263</td>\n",
       "    </tr>\n",
       "    <tr>\n",
       "      <th>2</th>\n",
       "      <td>hMOF-27705</td>\n",
       "      <td>1.749200</td>\n",
       "      <td>1.178655</td>\n",
       "      <td>-0.754667</td>\n",
       "      <td>7.120283</td>\n",
       "      <td>-2.842239</td>\n",
       "    </tr>\n",
       "    <tr>\n",
       "      <th>3</th>\n",
       "      <td>hMOF-5072656</td>\n",
       "      <td>1.446919</td>\n",
       "      <td>1.178655</td>\n",
       "      <td>-1.289789</td>\n",
       "      <td>5.132263</td>\n",
       "      <td>-1.197971</td>\n",
       "    </tr>\n",
       "    <tr>\n",
       "      <th>4</th>\n",
       "      <td>hMOF-5076184</td>\n",
       "      <td>1.446919</td>\n",
       "      <td>1.011601</td>\n",
       "      <td>-1.284149</td>\n",
       "      <td>6.075576</td>\n",
       "      <td>-2.642411</td>\n",
       "    </tr>\n",
       "  </tbody>\n",
       "</table>\n",
       "</div>"
      ],
      "text/plain": [
       "     hMOF-21761  1.4469189829363254  ...  5.5258512661635395  -1.8613410854197348\n",
       "0  hMOF-6005116            1.321756  ...            4.730921            -1.781057\n",
       "1  hMOF-5015132            1.749200  ...            6.767228             0.474263\n",
       "2    hMOF-27705            1.749200  ...            7.120283            -2.842239\n",
       "3  hMOF-5072656            1.446919  ...            5.132263            -1.197971\n",
       "4  hMOF-5076184            1.446919  ...            6.075576            -2.642411\n",
       "\n",
       "[5 rows x 6 columns]"
      ]
     },
     "execution_count": 4,
     "metadata": {},
     "output_type": "execute_result"
    }
   ],
   "source": [
    "train.head()"
   ]
  },
  {
   "cell_type": "markdown",
   "metadata": {},
   "source": [
    "column_names = ['id','lcd', 'pld', 'void_fraction', 'surface_area_m2g','surface_area_m2cm3', 'pressure_0.01(bar)']\n"
   ]
  },
  {
   "cell_type": "markdown",
   "metadata": {},
   "source": [
    "### Meta data"
   ]
  },
  {
   "cell_type": "code",
   "execution_count": null,
   "metadata": {},
   "outputs": [],
   "source": [
    "from sdv import metadata\n",
    "\n",
    "\n",
    "metadata.detect_from_dataframes(data)"
   ]
  },
  {
   "cell_type": "code",
   "execution_count": null,
   "metadata": {},
   "outputs": [],
   "source": [
    "print('Auto detected data:\\n')\n",
    "metadata.visualize()"
   ]
  },
  {
   "cell_type": "markdown",
   "metadata": {},
   "source": [
    "   set  'pii=True' if you want to anonymize that column in your corrections\n",
    "   \n"
   ]
  },
  {
   "cell_type": "code",
   "execution_count": null,
   "metadata": {},
   "outputs": [],
   "source": [
    "#in a case where there is mistake in the auto detection of metadata\n",
    "metadata.update_columns(\n",
    "    column_names=['age', 'transactions', 'session_length'],\n",
    "    sdtype='numerical',\n",
    "    computer_representation='Float'\n",
    ")"
   ]
  },
  {
   "cell_type": "code",
   "execution_count": null,
   "metadata": {},
   "outputs": [],
   "source": [
    "#setting primary key\n",
    "metadata.set_primary_key(column_name='guest_email')"
   ]
  },
  {
   "cell_type": "code",
   "execution_count": null,
   "metadata": {},
   "outputs": [],
   "source": [
    "#validating metadata\n",
    "metadata.validate()"
   ]
  },
  {
   "cell_type": "code",
   "execution_count": null,
   "metadata": {},
   "outputs": [],
   "source": [
    "metadata.validate_data(data=data)"
   ]
  },
  {
   "cell_type": "code",
   "execution_count": null,
   "metadata": {},
   "outputs": [],
   "source": [
    "metadata.visualize()"
   ]
  },
  {
   "cell_type": "code",
   "execution_count": null,
   "metadata": {},
   "outputs": [],
   "source": [
    "from sdv.metadata import SingleTableMetadata\n",
    "\n",
    "metadata.save_to_json(filepath='my_metadata_v1.json')\n",
    "\n",
    "\n"
   ]
  },
  {
   "cell_type": "code",
   "execution_count": null,
   "metadata": {},
   "outputs": [],
   "source": [
    "metadata = SingleTableMetadata.load_from_json(filepath='my_metadata_v1.json')"
   ]
  },
  {
   "cell_type": "markdown",
   "metadata": {},
   "source": [
    "### Creating a synthesizer\n",
    "An SDV synthesizer is an object that we  use to create synthetic data. It learns patterns from the real data and replicates them to generate synthetic data.\n",
    "\n"
   ]
  },
  {
   "cell_type": "code",
   "execution_count": null,
   "metadata": {},
   "outputs": [],
   "source": [
    "#fast method\n",
    "from sdv.lite import SingleTablePreset\n",
    "\n",
    "# synthesizer = SingleTablePreset(metadata, name='FAST_ML')\n",
    "# synthesizer.fit(data)\n",
    "\n",
    "# synthetic_data = synthesizer.sample(num_rows=10)\n",
    "\n",
    "\n",
    "from sdv.single_table import GaussianCopulaSynthesizer\n",
    "\n",
    "# Step 1: Create the synthesizer\n",
    "synthesizer = GaussianCopulaSynthesizer(metadata)\n",
    "\n",
    "# Step 2: Train the synthesizer\n",
    "synthesizer.fit(data)\n",
    "\n",
    "# Step 3: Generate synthetic data\n",
    "synthetic_data = synthesizer.sample(num_rows=100)"
   ]
  },
  {
   "cell_type": "code",
   "execution_count": null,
   "metadata": {},
   "outputs": [],
   "source": [
    "#evaluating our the data with the real ones\n",
    "from sdv.evaluation.single_table import run_diagnostic\n",
    "\n",
    "diagnostic = run_diagnostic(\n",
    "    real_data=data,\n",
    "    synthetic_data=synthetic_data,\n",
    "    metadata=metadata\n",
    ")"
   ]
  },
  {
   "cell_type": "code",
   "execution_count": null,
   "metadata": {},
   "outputs": [],
   "source": [
    "#measure the data quality or the statistical similarity between the real and synthetic data.\n",
    "from sdv.evaluation.single_table import evaluate_quality\n",
    "\n",
    "quality_report = evaluate_quality(\n",
    "    real_data,\n",
    "    synthetic_data,\n",
    "    metadata\n",
    ")"
   ]
  },
  {
   "cell_type": "code",
   "execution_count": null,
   "metadata": {},
   "outputs": [],
   "source": [
    "quality_report.get_details('Column Shapes')"
   ]
  },
  {
   "cell_type": "code",
   "execution_count": null,
   "metadata": {},
   "outputs": [],
   "source": [
    "#checking the correlation of columns in the synthesizin\n",
    "\n",
    "from sdv.evaluation.single_table import get_column_pair_plot\n",
    "\n",
    "fig = get_column_pair_plot(\n",
    "    real_data=real_data,\n",
    "    synthetic_data=synthetic_data,\n",
    "    column_names=['checkin_date', 'checkout_date'],\n",
    "    metadata=metadata\n",
    ")\n",
    "\n",
    "fig.show()"
   ]
  },
  {
   "cell_type": "code",
   "execution_count": null,
   "metadata": {},
   "outputs": [],
   "source": [
    "#saving the synthesizing model for future use\n",
    "from sdv.single_table import SingleTablePreset\n",
    "\n",
    "synthesizer.save('my_synthesizer.pkl')\n",
    "\n",
    "synthesizer = SingleTablePreset.load('my_synthesizer.pkl')"
   ]
  }
 ],
 "metadata": {
  "kernelspec": {
   "display_name": ".venv",
   "language": "python",
   "name": "python3"
  },
  "language_info": {
   "codemirror_mode": {
    "name": "ipython",
    "version": 3
   },
   "file_extension": ".py",
   "mimetype": "text/x-python",
   "name": "python",
   "nbconvert_exporter": "python",
   "pygments_lexer": "ipython3",
   "version": "3.10.13"
  }
 },
 "nbformat": 4,
 "nbformat_minor": 2
}
