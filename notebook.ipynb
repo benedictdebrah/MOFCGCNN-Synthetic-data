{
 "cells": [
  {
   "cell_type": "code",
   "execution_count": 1,
   "metadata": {},
   "outputs": [
    {
     "name": "stdout",
     "output_type": "stream",
     "text": [
      "1.11.0\n"
     ]
    }
   ],
   "source": [
    "#importing the libraries\n",
    "import sdv\n",
    "import pandas as pd\n",
    "\n",
    "print(sdv.version.public)\n",
    "\n"
   ]
  },
  {
   "cell_type": "code",
   "execution_count": 2,
   "metadata": {},
   "outputs": [],
   "source": [
    "#folder that contains the data\n",
    "import zipfile\n",
    "import os\n",
    "zip_path = 'To Benedict.zip'\n",
    "extract_path = os.getcwd()\n",
    "\n",
    "with zipfile.ZipFile(zip_path, 'r') as zip_ref:\n",
    "    zip_ref.extractall(extract_path)\n"
   ]
  },
  {
   "cell_type": "markdown",
   "metadata": {},
   "source": [
    "### Loading the data"
   ]
  },
  {
   "cell_type": "code",
   "execution_count": 3,
   "metadata": {},
   "outputs": [],
   "source": [
    "#viewing the data we have\n",
    "train = pd.read_csv('To Benedict/hMOFs data/train_scl1.csv')\n",
    "\n"
   ]
  },
  {
   "cell_type": "code",
   "execution_count": 4,
   "metadata": {},
   "outputs": [
    {
     "data": {
      "text/html": [
       "<div>\n",
       "<style scoped>\n",
       "    .dataframe tbody tr th:only-of-type {\n",
       "        vertical-align: middle;\n",
       "    }\n",
       "\n",
       "    .dataframe tbody tr th {\n",
       "        vertical-align: top;\n",
       "    }\n",
       "\n",
       "    .dataframe thead th {\n",
       "        text-align: right;\n",
       "    }\n",
       "</style>\n",
       "<table border=\"1\" class=\"dataframe\">\n",
       "  <thead>\n",
       "    <tr style=\"text-align: right;\">\n",
       "      <th></th>\n",
       "      <th>id</th>\n",
       "      <th>lcd</th>\n",
       "      <th>pld</th>\n",
       "      <th>void_fraction</th>\n",
       "      <th>surface_area_m2cm3</th>\n",
       "      <th>pressure_2.5(bar)</th>\n",
       "    </tr>\n",
       "  </thead>\n",
       "  <tbody>\n",
       "    <tr>\n",
       "      <th>0</th>\n",
       "      <td>hMOF-1000002</td>\n",
       "      <td>1.874265</td>\n",
       "      <td>1.599817</td>\n",
       "      <td>4.513268</td>\n",
       "      <td>3.232680</td>\n",
       "      <td>1.055880</td>\n",
       "    </tr>\n",
       "    <tr>\n",
       "      <th>1</th>\n",
       "      <td>hMOF-1000004</td>\n",
       "      <td>1.874265</td>\n",
       "      <td>1.599817</td>\n",
       "      <td>4.328546</td>\n",
       "      <td>3.358655</td>\n",
       "      <td>1.086126</td>\n",
       "    </tr>\n",
       "    <tr>\n",
       "      <th>2</th>\n",
       "      <td>hMOF-1000006</td>\n",
       "      <td>1.753345</td>\n",
       "      <td>1.599817</td>\n",
       "      <td>4.626599</td>\n",
       "      <td>3.150817</td>\n",
       "      <td>1.099162</td>\n",
       "    </tr>\n",
       "    <tr>\n",
       "      <th>3</th>\n",
       "      <td>hMOF-1000010</td>\n",
       "      <td>1.874265</td>\n",
       "      <td>1.599817</td>\n",
       "      <td>4.328310</td>\n",
       "      <td>3.344909</td>\n",
       "      <td>1.027537</td>\n",
       "    </tr>\n",
       "    <tr>\n",
       "      <th>4</th>\n",
       "      <td>hMOF-1000011</td>\n",
       "      <td>1.753345</td>\n",
       "      <td>1.599817</td>\n",
       "      <td>4.585523</td>\n",
       "      <td>3.129274</td>\n",
       "      <td>1.069447</td>\n",
       "    </tr>\n",
       "  </tbody>\n",
       "</table>\n",
       "</div>"
      ],
      "text/plain": [
       "             id       lcd       pld  void_fraction  surface_area_m2cm3  \\\n",
       "0  hMOF-1000002  1.874265  1.599817       4.513268            3.232680   \n",
       "1  hMOF-1000004  1.874265  1.599817       4.328546            3.358655   \n",
       "2  hMOF-1000006  1.753345  1.599817       4.626599            3.150817   \n",
       "3  hMOF-1000010  1.874265  1.599817       4.328310            3.344909   \n",
       "4  hMOF-1000011  1.753345  1.599817       4.585523            3.129274   \n",
       "\n",
       "   pressure_2.5(bar)  \n",
       "0           1.055880  \n",
       "1           1.086126  \n",
       "2           1.099162  \n",
       "3           1.027537  \n",
       "4           1.069447  "
      ]
     },
     "execution_count": 4,
     "metadata": {},
     "output_type": "execute_result"
    }
   ],
   "source": [
    "train.head()"
   ]
  },
  {
   "cell_type": "code",
   "execution_count": 5,
   "metadata": {},
   "outputs": [],
   "source": [
    "# train_columns = ['id','lcd', 'pld', 'void_fraction', 'surface_area_m2g','pressure_0.01(bar)']\n",
    "# train.columns = train_columns\n"
   ]
  },
  {
   "cell_type": "code",
   "execution_count": 6,
   "metadata": {},
   "outputs": [],
   "source": [
    "train.to_csv('new_train.csv', index=False)"
   ]
  },
  {
   "cell_type": "markdown",
   "metadata": {},
   "source": [
    "column_names = ['id','lcd', 'pld', 'void_fraction', 'surface_area_m2g','surface_area_m2cm3', 'pressure_0.01(bar)']\n"
   ]
  },
  {
   "cell_type": "markdown",
   "metadata": {},
   "source": [
    "### Meta data"
   ]
  },
  {
   "cell_type": "code",
   "execution_count": 7,
   "metadata": {},
   "outputs": [],
   "source": [
    "from sdv.metadata import SingleTableMetadata\n",
    "\n",
    "metadata = SingleTableMetadata()\n",
    "\n",
    "metadata.detect_from_csv(filepath='new_train.csv')"
   ]
  },
  {
   "cell_type": "code",
   "execution_count": 8,
   "metadata": {},
   "outputs": [],
   "source": [
    "python_dict = metadata.to_dict()"
   ]
  },
  {
   "cell_type": "markdown",
   "metadata": {},
   "source": [
    "   set  'pii=True' if you want to anonymize that column in your corrections\n",
    "   \n"
   ]
  },
  {
   "cell_type": "code",
   "execution_count": 9,
   "metadata": {},
   "outputs": [
    {
     "data": {
      "text/plain": [
       "{'METADATA_SPEC_VERSION': 'SINGLE_TABLE_V1',\n",
       " 'primary_key': 'id',\n",
       " 'columns': {'id': {'sdtype': 'id'},\n",
       "  'lcd': {'sdtype': 'numerical'},\n",
       "  'pld': {'sdtype': 'numerical'},\n",
       "  'void_fraction': {'sdtype': 'numerical'},\n",
       "  'surface_area_m2cm3': {'sdtype': 'numerical'},\n",
       "  'pressure_2.5(bar)': {'sdtype': 'numerical'}}}"
      ]
     },
     "execution_count": 9,
     "metadata": {},
     "output_type": "execute_result"
    }
   ],
   "source": [
    "python_dict"
   ]
  },
  {
   "cell_type": "code",
   "execution_count": 10,
   "metadata": {},
   "outputs": [],
   "source": [
    "# #in a case where there is mistake in the auto detection of metadata\n",
    "# metadata.update_columns(\n",
    "#     column_names=['age', 'transactions', 'session_length'],\n",
    "#     sdtype='numerical',\n",
    "#     computer_representation='Float'\n",
    "# )"
   ]
  },
  {
   "cell_type": "code",
   "execution_count": 11,
   "metadata": {},
   "outputs": [],
   "source": [
    "# #setting primary key\n",
    "# metadata.set_primary_key(column_name='guest_email')"
   ]
  },
  {
   "cell_type": "code",
   "execution_count": 12,
   "metadata": {},
   "outputs": [],
   "source": [
    "#validating metadata\n",
    "metadata.validate()"
   ]
  },
  {
   "cell_type": "code",
   "execution_count": 13,
   "metadata": {},
   "outputs": [],
   "source": [
    "metadata.validate_data(data=train)"
   ]
  },
  {
   "cell_type": "code",
   "execution_count": 14,
   "metadata": {},
   "outputs": [],
   "source": [
    "# from sdv.metadata import SingleTableMetadata\n",
    "\n",
    "# metadata.save_to_json(filepath='my_metadata_v1.json')\n",
    "\n",
    "\n"
   ]
  },
  {
   "cell_type": "code",
   "execution_count": 15,
   "metadata": {},
   "outputs": [],
   "source": [
    "metadata = SingleTableMetadata.load_from_json(filepath='my_metadata_v1.json')"
   ]
  },
  {
   "cell_type": "markdown",
   "metadata": {},
   "source": [
    "### Creating a synthesizer\n",
    "An SDV synthesizer is an object that we  use to create synthetic data. It learns patterns from the real data and replicates them to generate synthetic data.\n",
    "\n"
   ]
  },
  {
   "cell_type": "code",
   "execution_count": 16,
   "metadata": {},
   "outputs": [],
   "source": [
    "#fast method\n",
    "from sdv.lite import SingleTablePreset\n",
    "\n",
    "# synthesizer = SingleTablePreset(metadata, name='FAST_ML')\n",
    "# synthesizer.fit(data)\n",
    "\n",
    "# synthetic_data = synthesizer.sample(num_rows=10)\n",
    "\n",
    "\n",
    "from sdv.single_table import GaussianCopulaSynthesizer\n",
    "\n",
    "# Step 1: Create the synthesizer\n",
    "synthesizer = GaussianCopulaSynthesizer(metadata)\n",
    "\n",
    "# Step 2: Train the synthesizer\n",
    "synthesizer.fit(train)\n",
    "\n",
    "# Step 3: Generate synthetic data\n",
    "synthetic_data = synthesizer.sample(num_rows=21148)"
   ]
  },
  {
   "cell_type": "code",
   "execution_count": 17,
   "metadata": {},
   "outputs": [],
   "source": [
    "synthetic_data.to_csv('synthetic_data.csv', index=False)"
   ]
  },
  {
   "cell_type": "code",
   "execution_count": null,
   "metadata": {},
   "outputs": [],
   "source": []
  },
  {
   "cell_type": "code",
   "execution_count": 18,
   "metadata": {},
   "outputs": [
    {
     "name": "stdout",
     "output_type": "stream",
     "text": [
      "Generating report ...\n",
      "(1/2) Evaluating Data Validity: : 100%|██████████| 6/6 [00:00<00:00, 53.37it/s]\n",
      "(2/2) Evaluating Data Structure: : 100%|██████████| 1/1 [00:00<00:00, 130.32it/s]\n",
      "\n",
      "Overall Score: 100.0%\n",
      "\n",
      "Properties:\n",
      "- Data Validity: 100.0%\n",
      "- Data Structure: 100.0%\n"
     ]
    }
   ],
   "source": [
    "#evaluating our the data with the real ones\n",
    "from sdv.evaluation.single_table import run_diagnostic\n",
    "\n",
    "diagnostic = run_diagnostic(\n",
    "    real_data=train,\n",
    "    synthetic_data=synthetic_data,\n",
    "    metadata=metadata\n",
    ")"
   ]
  },
  {
   "cell_type": "code",
   "execution_count": 19,
   "metadata": {},
   "outputs": [
    {
     "name": "stdout",
     "output_type": "stream",
     "text": [
      "Generating report ...\n",
      "(1/2) Evaluating Column Shapes: : 100%|██████████| 6/6 [00:00<00:00, 39.83it/s]\n",
      "(2/2) Evaluating Column Pair Trends: : 100%|██████████| 15/15 [00:00<00:00, 43.63it/s]\n",
      "\n",
      "Overall Score: 93.73%\n",
      "\n",
      "Properties:\n",
      "- Column Shapes: 94.3%\n",
      "- Column Pair Trends: 93.16%\n"
     ]
    }
   ],
   "source": [
    "#measure the data quality or the statistical similarity between the real and synthetic data.\n",
    "from sdv.evaluation.single_table import evaluate_quality\n",
    "\n",
    "quality_report = evaluate_quality(\n",
    "    train,\n",
    "    synthetic_data,\n",
    "    metadata\n",
    ")"
   ]
  },
  {
   "cell_type": "code",
   "execution_count": 20,
   "metadata": {},
   "outputs": [
    {
     "data": {
      "text/html": [
       "<div>\n",
       "<style scoped>\n",
       "    .dataframe tbody tr th:only-of-type {\n",
       "        vertical-align: middle;\n",
       "    }\n",
       "\n",
       "    .dataframe tbody tr th {\n",
       "        vertical-align: top;\n",
       "    }\n",
       "\n",
       "    .dataframe thead th {\n",
       "        text-align: right;\n",
       "    }\n",
       "</style>\n",
       "<table border=\"1\" class=\"dataframe\">\n",
       "  <thead>\n",
       "    <tr style=\"text-align: right;\">\n",
       "      <th></th>\n",
       "      <th>Column</th>\n",
       "      <th>Metric</th>\n",
       "      <th>Score</th>\n",
       "    </tr>\n",
       "  </thead>\n",
       "  <tbody>\n",
       "    <tr>\n",
       "      <th>0</th>\n",
       "      <td>lcd</td>\n",
       "      <td>KSComplement</td>\n",
       "      <td>0.949972</td>\n",
       "    </tr>\n",
       "    <tr>\n",
       "      <th>1</th>\n",
       "      <td>pld</td>\n",
       "      <td>KSComplement</td>\n",
       "      <td>0.857906</td>\n",
       "    </tr>\n",
       "    <tr>\n",
       "      <th>2</th>\n",
       "      <td>void_fraction</td>\n",
       "      <td>KSComplement</td>\n",
       "      <td>0.979052</td>\n",
       "    </tr>\n",
       "    <tr>\n",
       "      <th>3</th>\n",
       "      <td>surface_area_m2cm3</td>\n",
       "      <td>KSComplement</td>\n",
       "      <td>0.959854</td>\n",
       "    </tr>\n",
       "    <tr>\n",
       "      <th>4</th>\n",
       "      <td>pressure_2.5(bar)</td>\n",
       "      <td>KSComplement</td>\n",
       "      <td>0.968177</td>\n",
       "    </tr>\n",
       "  </tbody>\n",
       "</table>\n",
       "</div>"
      ],
      "text/plain": [
       "               Column        Metric     Score\n",
       "0                 lcd  KSComplement  0.949972\n",
       "1                 pld  KSComplement  0.857906\n",
       "2       void_fraction  KSComplement  0.979052\n",
       "3  surface_area_m2cm3  KSComplement  0.959854\n",
       "4   pressure_2.5(bar)  KSComplement  0.968177"
      ]
     },
     "execution_count": 20,
     "metadata": {},
     "output_type": "execute_result"
    }
   ],
   "source": [
    "quality_report.get_details('Column Shapes')"
   ]
  },
  {
   "cell_type": "code",
   "execution_count": 21,
   "metadata": {},
   "outputs": [],
   "source": [
    "# #generate a plot\n",
    "# from sdv.evaluation.single_table import get_column_pair_plot\n",
    "\n",
    "# fig = get_column_pair_plot(\n",
    "#     real_data=train,\n",
    "#     synthetic_data=synthetic_data,\n",
    "#     column_names=['surface_area_m2cm3', 'void_fraction'],\n",
    "#     metadata=metadata\n",
    "# )\n",
    "\n",
    "# fig.show()"
   ]
  },
  {
   "cell_type": "code",
   "execution_count": 22,
   "metadata": {},
   "outputs": [],
   "source": [
    "# from sdv.evaluation.single_table import get_column_plot\n",
    "\n",
    "# fig = get_column_plot(\n",
    "#     real_data=train,\n",
    "#     synthetic_data=synthetic_data,\n",
    "#     column_name='pressure_2.5(bar)',\n",
    "#     metadata=metadata\n",
    "# )\n",
    "\n",
    "# fig.show()"
   ]
  },
  {
   "cell_type": "code",
   "execution_count": 23,
   "metadata": {},
   "outputs": [
    {
     "data": {
      "text/html": [
       "<div>\n",
       "<style scoped>\n",
       "    .dataframe tbody tr th:only-of-type {\n",
       "        vertical-align: middle;\n",
       "    }\n",
       "\n",
       "    .dataframe tbody tr th {\n",
       "        vertical-align: top;\n",
       "    }\n",
       "\n",
       "    .dataframe thead th {\n",
       "        text-align: right;\n",
       "    }\n",
       "</style>\n",
       "<table border=\"1\" class=\"dataframe\">\n",
       "  <thead>\n",
       "    <tr style=\"text-align: right;\">\n",
       "      <th></th>\n",
       "      <th>id</th>\n",
       "      <th>lcd</th>\n",
       "      <th>pld</th>\n",
       "      <th>void_fraction</th>\n",
       "      <th>surface_area_m2cm3</th>\n",
       "      <th>pressure_2.5(bar)</th>\n",
       "    </tr>\n",
       "  </thead>\n",
       "  <tbody>\n",
       "    <tr>\n",
       "      <th>0</th>\n",
       "      <td>sdv-id-0</td>\n",
       "      <td>3.036759</td>\n",
       "      <td>2.784457</td>\n",
       "      <td>6.007545</td>\n",
       "      <td>3.861824</td>\n",
       "      <td>0.622209</td>\n",
       "    </tr>\n",
       "    <tr>\n",
       "      <th>1</th>\n",
       "      <td>sdv-id-1</td>\n",
       "      <td>1.839953</td>\n",
       "      <td>1.210207</td>\n",
       "      <td>4.671190</td>\n",
       "      <td>3.610159</td>\n",
       "      <td>1.054537</td>\n",
       "    </tr>\n",
       "    <tr>\n",
       "      <th>2</th>\n",
       "      <td>sdv-id-2</td>\n",
       "      <td>2.620401</td>\n",
       "      <td>1.819342</td>\n",
       "      <td>4.883504</td>\n",
       "      <td>2.547022</td>\n",
       "      <td>0.378229</td>\n",
       "    </tr>\n",
       "    <tr>\n",
       "      <th>3</th>\n",
       "      <td>sdv-id-3</td>\n",
       "      <td>1.775954</td>\n",
       "      <td>1.720503</td>\n",
       "      <td>5.039513</td>\n",
       "      <td>4.691008</td>\n",
       "      <td>1.018116</td>\n",
       "    </tr>\n",
       "    <tr>\n",
       "      <th>4</th>\n",
       "      <td>sdv-id-4</td>\n",
       "      <td>1.666225</td>\n",
       "      <td>1.576467</td>\n",
       "      <td>5.470821</td>\n",
       "      <td>3.170497</td>\n",
       "      <td>1.177341</td>\n",
       "    </tr>\n",
       "    <tr>\n",
       "      <th>...</th>\n",
       "      <td>...</td>\n",
       "      <td>...</td>\n",
       "      <td>...</td>\n",
       "      <td>...</td>\n",
       "      <td>...</td>\n",
       "      <td>...</td>\n",
       "    </tr>\n",
       "    <tr>\n",
       "      <th>21143</th>\n",
       "      <td>sdv-id-21143</td>\n",
       "      <td>1.314956</td>\n",
       "      <td>1.114136</td>\n",
       "      <td>3.763455</td>\n",
       "      <td>4.560103</td>\n",
       "      <td>1.254863</td>\n",
       "    </tr>\n",
       "    <tr>\n",
       "      <th>21144</th>\n",
       "      <td>sdv-id-21144</td>\n",
       "      <td>1.635590</td>\n",
       "      <td>1.085299</td>\n",
       "      <td>4.588752</td>\n",
       "      <td>3.364793</td>\n",
       "      <td>1.090449</td>\n",
       "    </tr>\n",
       "    <tr>\n",
       "      <th>21145</th>\n",
       "      <td>sdv-id-21145</td>\n",
       "      <td>2.607567</td>\n",
       "      <td>2.331363</td>\n",
       "      <td>6.295555</td>\n",
       "      <td>4.460693</td>\n",
       "      <td>0.977427</td>\n",
       "    </tr>\n",
       "    <tr>\n",
       "      <th>21146</th>\n",
       "      <td>sdv-id-21146</td>\n",
       "      <td>2.176922</td>\n",
       "      <td>1.425379</td>\n",
       "      <td>4.291933</td>\n",
       "      <td>2.778922</td>\n",
       "      <td>1.154610</td>\n",
       "    </tr>\n",
       "    <tr>\n",
       "      <th>21147</th>\n",
       "      <td>sdv-id-21147</td>\n",
       "      <td>2.560151</td>\n",
       "      <td>1.754593</td>\n",
       "      <td>5.878627</td>\n",
       "      <td>6.288091</td>\n",
       "      <td>0.935545</td>\n",
       "    </tr>\n",
       "  </tbody>\n",
       "</table>\n",
       "<p>21148 rows × 6 columns</p>\n",
       "</div>"
      ],
      "text/plain": [
       "                 id       lcd       pld  void_fraction  surface_area_m2cm3  \\\n",
       "0          sdv-id-0  3.036759  2.784457       6.007545            3.861824   \n",
       "1          sdv-id-1  1.839953  1.210207       4.671190            3.610159   \n",
       "2          sdv-id-2  2.620401  1.819342       4.883504            2.547022   \n",
       "3          sdv-id-3  1.775954  1.720503       5.039513            4.691008   \n",
       "4          sdv-id-4  1.666225  1.576467       5.470821            3.170497   \n",
       "...             ...       ...       ...            ...                 ...   \n",
       "21143  sdv-id-21143  1.314956  1.114136       3.763455            4.560103   \n",
       "21144  sdv-id-21144  1.635590  1.085299       4.588752            3.364793   \n",
       "21145  sdv-id-21145  2.607567  2.331363       6.295555            4.460693   \n",
       "21146  sdv-id-21146  2.176922  1.425379       4.291933            2.778922   \n",
       "21147  sdv-id-21147  2.560151  1.754593       5.878627            6.288091   \n",
       "\n",
       "       pressure_2.5(bar)  \n",
       "0               0.622209  \n",
       "1               1.054537  \n",
       "2               0.378229  \n",
       "3               1.018116  \n",
       "4               1.177341  \n",
       "...                  ...  \n",
       "21143           1.254863  \n",
       "21144           1.090449  \n",
       "21145           0.977427  \n",
       "21146           1.154610  \n",
       "21147           0.935545  \n",
       "\n",
       "[21148 rows x 6 columns]"
      ]
     },
     "execution_count": 23,
     "metadata": {},
     "output_type": "execute_result"
    }
   ],
   "source": [
    "synthetic_data"
   ]
  },
  {
   "cell_type": "code",
   "execution_count": 24,
   "metadata": {},
   "outputs": [
    {
     "data": {
      "text/html": [
       "<div>\n",
       "<style scoped>\n",
       "    .dataframe tbody tr th:only-of-type {\n",
       "        vertical-align: middle;\n",
       "    }\n",
       "\n",
       "    .dataframe tbody tr th {\n",
       "        vertical-align: top;\n",
       "    }\n",
       "\n",
       "    .dataframe thead th {\n",
       "        text-align: right;\n",
       "    }\n",
       "</style>\n",
       "<table border=\"1\" class=\"dataframe\">\n",
       "  <thead>\n",
       "    <tr style=\"text-align: right;\">\n",
       "      <th></th>\n",
       "      <th>id</th>\n",
       "      <th>lcd</th>\n",
       "      <th>pld</th>\n",
       "      <th>void_fraction</th>\n",
       "      <th>surface_area_m2cm3</th>\n",
       "      <th>pressure_2.5(bar)</th>\n",
       "    </tr>\n",
       "  </thead>\n",
       "  <tbody>\n",
       "    <tr>\n",
       "      <th>0</th>\n",
       "      <td>hMOF-1000002</td>\n",
       "      <td>1.874265</td>\n",
       "      <td>1.599817</td>\n",
       "      <td>4.513268</td>\n",
       "      <td>3.232680</td>\n",
       "      <td>1.055880</td>\n",
       "    </tr>\n",
       "    <tr>\n",
       "      <th>1</th>\n",
       "      <td>hMOF-1000004</td>\n",
       "      <td>1.874265</td>\n",
       "      <td>1.599817</td>\n",
       "      <td>4.328546</td>\n",
       "      <td>3.358655</td>\n",
       "      <td>1.086126</td>\n",
       "    </tr>\n",
       "    <tr>\n",
       "      <th>2</th>\n",
       "      <td>hMOF-1000006</td>\n",
       "      <td>1.753345</td>\n",
       "      <td>1.599817</td>\n",
       "      <td>4.626599</td>\n",
       "      <td>3.150817</td>\n",
       "      <td>1.099162</td>\n",
       "    </tr>\n",
       "    <tr>\n",
       "      <th>3</th>\n",
       "      <td>hMOF-1000010</td>\n",
       "      <td>1.874265</td>\n",
       "      <td>1.599817</td>\n",
       "      <td>4.328310</td>\n",
       "      <td>3.344909</td>\n",
       "      <td>1.027537</td>\n",
       "    </tr>\n",
       "    <tr>\n",
       "      <th>4</th>\n",
       "      <td>hMOF-1000011</td>\n",
       "      <td>1.753345</td>\n",
       "      <td>1.599817</td>\n",
       "      <td>4.585523</td>\n",
       "      <td>3.129274</td>\n",
       "      <td>1.069447</td>\n",
       "    </tr>\n",
       "    <tr>\n",
       "      <th>...</th>\n",
       "      <td>...</td>\n",
       "      <td>...</td>\n",
       "      <td>...</td>\n",
       "      <td>...</td>\n",
       "      <td>...</td>\n",
       "      <td>...</td>\n",
       "    </tr>\n",
       "    <tr>\n",
       "      <th>21143</th>\n",
       "      <td>hMOF-5061635</td>\n",
       "      <td>3.808990</td>\n",
       "      <td>3.495896</td>\n",
       "      <td>6.314403</td>\n",
       "      <td>3.536744</td>\n",
       "      <td>0.542799</td>\n",
       "    </tr>\n",
       "    <tr>\n",
       "      <th>21144</th>\n",
       "      <td>hMOF-5061648</td>\n",
       "      <td>1.632424</td>\n",
       "      <td>1.125797</td>\n",
       "      <td>5.068869</td>\n",
       "      <td>5.958382</td>\n",
       "      <td>1.227704</td>\n",
       "    </tr>\n",
       "    <tr>\n",
       "      <th>21145</th>\n",
       "      <td>hMOF-5061649</td>\n",
       "      <td>1.269663</td>\n",
       "      <td>1.007292</td>\n",
       "      <td>3.177161</td>\n",
       "      <td>2.306537</td>\n",
       "      <td>0.973083</td>\n",
       "    </tr>\n",
       "    <tr>\n",
       "      <th>21146</th>\n",
       "      <td>hMOF-5061655</td>\n",
       "      <td>3.688070</td>\n",
       "      <td>3.377391</td>\n",
       "      <td>6.093433</td>\n",
       "      <td>3.842655</td>\n",
       "      <td>0.536680</td>\n",
       "    </tr>\n",
       "    <tr>\n",
       "      <th>21147</th>\n",
       "      <td>hMOF-5061670</td>\n",
       "      <td>1.511504</td>\n",
       "      <td>0.888787</td>\n",
       "      <td>4.967670</td>\n",
       "      <td>6.231260</td>\n",
       "      <td>1.063582</td>\n",
       "    </tr>\n",
       "  </tbody>\n",
       "</table>\n",
       "<p>21148 rows × 6 columns</p>\n",
       "</div>"
      ],
      "text/plain": [
       "                 id       lcd       pld  void_fraction  surface_area_m2cm3  \\\n",
       "0      hMOF-1000002  1.874265  1.599817       4.513268            3.232680   \n",
       "1      hMOF-1000004  1.874265  1.599817       4.328546            3.358655   \n",
       "2      hMOF-1000006  1.753345  1.599817       4.626599            3.150817   \n",
       "3      hMOF-1000010  1.874265  1.599817       4.328310            3.344909   \n",
       "4      hMOF-1000011  1.753345  1.599817       4.585523            3.129274   \n",
       "...             ...       ...       ...            ...                 ...   \n",
       "21143  hMOF-5061635  3.808990  3.495896       6.314403            3.536744   \n",
       "21144  hMOF-5061648  1.632424  1.125797       5.068869            5.958382   \n",
       "21145  hMOF-5061649  1.269663  1.007292       3.177161            2.306537   \n",
       "21146  hMOF-5061655  3.688070  3.377391       6.093433            3.842655   \n",
       "21147  hMOF-5061670  1.511504  0.888787       4.967670            6.231260   \n",
       "\n",
       "       pressure_2.5(bar)  \n",
       "0               1.055880  \n",
       "1               1.086126  \n",
       "2               1.099162  \n",
       "3               1.027537  \n",
       "4               1.069447  \n",
       "...                  ...  \n",
       "21143           0.542799  \n",
       "21144           1.227704  \n",
       "21145           0.973083  \n",
       "21146           0.536680  \n",
       "21147           1.063582  \n",
       "\n",
       "[21148 rows x 6 columns]"
      ]
     },
     "execution_count": 24,
     "metadata": {},
     "output_type": "execute_result"
    }
   ],
   "source": [
    "train"
   ]
  },
  {
   "cell_type": "code",
   "execution_count": 25,
   "metadata": {},
   "outputs": [],
   "source": [
    "synthetic_data.to_csv('synthetic_data.csv', index=False)"
   ]
  },
  {
   "cell_type": "code",
   "execution_count": 26,
   "metadata": {},
   "outputs": [],
   "source": [
    "#saving the synthesizing model for future use\n",
    "from sdv.lite import SingleTablePreset\n",
    "\n",
    "synthesizer.save('my_synthesizer.pkl')\n",
    "\n",
    "synthesizer = SingleTablePreset.load('my_synthesizer.pkl')"
   ]
  },
  {
   "cell_type": "code",
   "execution_count": 29,
   "metadata": {},
   "outputs": [],
   "source": [
    "core_mof = pd.read_csv('To Benedict/CoRE-MOFs data/CoRE_MOFs_pred.csv')"
   ]
  },
  {
   "cell_type": "markdown",
   "metadata": {},
   "source": []
  }
 ],
 "metadata": {
  "kernelspec": {
   "display_name": ".venv",
   "language": "python",
   "name": "python3"
  },
  "language_info": {
   "codemirror_mode": {
    "name": "ipython",
    "version": 3
   },
   "file_extension": ".py",
   "mimetype": "text/x-python",
   "name": "python",
   "nbconvert_exporter": "python",
   "pygments_lexer": "ipython3",
   "version": "3.10.12"
  }
 },
 "nbformat": 4,
 "nbformat_minor": 2
}
