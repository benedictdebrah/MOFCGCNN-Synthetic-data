{
 "cells": [
  {
   "cell_type": "code",
   "execution_count": 32,
   "metadata": {},
   "outputs": [
    {
     "name": "stdout",
     "output_type": "stream",
     "text": [
      "1.11.0\n"
     ]
    }
   ],
   "source": [
    "import sdv\n",
    "import pandas as pd\n",
    "\n",
    "print(sdv.version.public)"
   ]
  },
  {
   "cell_type": "code",
   "execution_count": 33,
   "metadata": {},
   "outputs": [],
   "source": [
    "# import zipfile\n",
    "# import os\n",
    "# zip_path = 'drive-download-20240323T140328Z-001.zip'\n",
    "# extract_path = os.getcwd()\n",
    "\n",
    "# with zipfile.ZipFile(zip_path, 'r') as zip_ref:\n",
    "#     zip_ref.extractall(extract_path)\n"
   ]
  },
  {
   "cell_type": "markdown",
   "metadata": {},
   "source": [
    "### Loading the data"
   ]
  },
  {
   "cell_type": "code",
   "execution_count": 34,
   "metadata": {},
   "outputs": [],
   "source": [
    "#viewing the data we have\n",
    "train = pd.read_csv('train.csv')\n",
    "\n",
    "\n",
    "# if  a single df\n",
    "# data = pd.read_csv('data.csv')"
   ]
  },
  {
   "cell_type": "markdown",
   "metadata": {},
   "source": [
    "<li> I think this notebook will help in synthesizing our data\n",
    "<li> Our data should not be divided (i mean we should have a single df that contains (train,test, validation) after we do the split)\n",
    "<li>Problem : we need to try and find a way of making our hmof ids unique and same (cos this ids .cifs are the ones available , different onece will cause a problem)"
   ]
  },
  {
   "cell_type": "code",
   "execution_count": 35,
   "metadata": {},
   "outputs": [
    {
     "data": {
      "text/html": [
       "<div>\n",
       "<style scoped>\n",
       "    .dataframe tbody tr th:only-of-type {\n",
       "        vertical-align: middle;\n",
       "    }\n",
       "\n",
       "    .dataframe tbody tr th {\n",
       "        vertical-align: top;\n",
       "    }\n",
       "\n",
       "    .dataframe thead th {\n",
       "        text-align: right;\n",
       "    }\n",
       "</style>\n",
       "<table border=\"1\" class=\"dataframe\">\n",
       "  <thead>\n",
       "    <tr style=\"text-align: right;\">\n",
       "      <th></th>\n",
       "      <th>hMOF-21761</th>\n",
       "      <th>1.4469189829363254</th>\n",
       "      <th>1.0116009116784799</th>\n",
       "      <th>-1.2196517457139742</th>\n",
       "      <th>5.5258512661635395</th>\n",
       "      <th>-1.8613410854197348</th>\n",
       "    </tr>\n",
       "  </thead>\n",
       "  <tbody>\n",
       "    <tr>\n",
       "      <th>0</th>\n",
       "      <td>hMOF-6005116</td>\n",
       "      <td>1.321756</td>\n",
       "      <td>0.810930</td>\n",
       "      <td>-2.301835</td>\n",
       "      <td>4.730921</td>\n",
       "      <td>-1.781057</td>\n",
       "    </tr>\n",
       "    <tr>\n",
       "      <th>1</th>\n",
       "      <td>hMOF-5015132</td>\n",
       "      <td>1.749200</td>\n",
       "      <td>1.178655</td>\n",
       "      <td>-0.678929</td>\n",
       "      <td>6.767228</td>\n",
       "      <td>0.474263</td>\n",
       "    </tr>\n",
       "    <tr>\n",
       "      <th>2</th>\n",
       "      <td>hMOF-27705</td>\n",
       "      <td>1.749200</td>\n",
       "      <td>1.178655</td>\n",
       "      <td>-0.754667</td>\n",
       "      <td>7.120283</td>\n",
       "      <td>-2.842239</td>\n",
       "    </tr>\n",
       "    <tr>\n",
       "      <th>3</th>\n",
       "      <td>hMOF-5072656</td>\n",
       "      <td>1.446919</td>\n",
       "      <td>1.178655</td>\n",
       "      <td>-1.289789</td>\n",
       "      <td>5.132263</td>\n",
       "      <td>-1.197971</td>\n",
       "    </tr>\n",
       "    <tr>\n",
       "      <th>4</th>\n",
       "      <td>hMOF-5076184</td>\n",
       "      <td>1.446919</td>\n",
       "      <td>1.011601</td>\n",
       "      <td>-1.284149</td>\n",
       "      <td>6.075576</td>\n",
       "      <td>-2.642411</td>\n",
       "    </tr>\n",
       "  </tbody>\n",
       "</table>\n",
       "</div>"
      ],
      "text/plain": [
       "     hMOF-21761  1.4469189829363254  1.0116009116784799  -1.2196517457139742  \\\n",
       "0  hMOF-6005116            1.321756            0.810930            -2.301835   \n",
       "1  hMOF-5015132            1.749200            1.178655            -0.678929   \n",
       "2    hMOF-27705            1.749200            1.178655            -0.754667   \n",
       "3  hMOF-5072656            1.446919            1.178655            -1.289789   \n",
       "4  hMOF-5076184            1.446919            1.011601            -1.284149   \n",
       "\n",
       "   5.5258512661635395  -1.8613410854197348  \n",
       "0            4.730921            -1.781057  \n",
       "1            6.767228             0.474263  \n",
       "2            7.120283            -2.842239  \n",
       "3            5.132263            -1.197971  \n",
       "4            6.075576            -2.642411  "
      ]
     },
     "execution_count": 35,
     "metadata": {},
     "output_type": "execute_result"
    }
   ],
   "source": [
    "train.head()"
   ]
  },
  {
   "cell_type": "code",
   "execution_count": 36,
   "metadata": {},
   "outputs": [],
   "source": [
    "train_columns = ['id','lcd', 'pld', 'void_fraction', 'surface_area_m2g','pressure_0.01(bar)']\n",
    "train.columns = train_columns\n"
   ]
  },
  {
   "cell_type": "code",
   "execution_count": 37,
   "metadata": {},
   "outputs": [],
   "source": [
    "train.to_csv('new_train.csv', index=False)"
   ]
  },
  {
   "cell_type": "markdown",
   "metadata": {},
   "source": [
    "column_names = ['id','lcd', 'pld', 'void_fraction', 'surface_area_m2g','surface_area_m2cm3', 'pressure_0.01(bar)']\n"
   ]
  },
  {
   "cell_type": "markdown",
   "metadata": {},
   "source": [
    "### Meta data"
   ]
  },
  {
   "cell_type": "code",
   "execution_count": 38,
   "metadata": {},
   "outputs": [],
   "source": [
    "from sdv.metadata import SingleTableMetadata\n",
    "\n",
    "metadata = SingleTableMetadata()\n",
    "\n",
    "metadata.detect_from_csv(filepath='new_train.csv')"
   ]
  },
  {
   "cell_type": "code",
   "execution_count": 39,
   "metadata": {},
   "outputs": [],
   "source": [
    "python_dict = metadata.to_dict()"
   ]
  },
  {
   "cell_type": "markdown",
   "metadata": {},
   "source": [
    "   set  'pii=True' if you want to anonymize that column in your corrections\n",
    "   \n"
   ]
  },
  {
   "cell_type": "code",
   "execution_count": 40,
   "metadata": {},
   "outputs": [
    {
     "data": {
      "text/plain": [
       "{'METADATA_SPEC_VERSION': 'SINGLE_TABLE_V1',\n",
       " 'primary_key': 'id',\n",
       " 'columns': {'id': {'sdtype': 'id'},\n",
       "  'lcd': {'sdtype': 'numerical'},\n",
       "  'pld': {'sdtype': 'numerical'},\n",
       "  'void_fraction': {'sdtype': 'numerical'},\n",
       "  'surface_area_m2g': {'sdtype': 'numerical'},\n",
       "  'pressure_0.01(bar)': {'sdtype': 'numerical'}}}"
      ]
     },
     "execution_count": 40,
     "metadata": {},
     "output_type": "execute_result"
    }
   ],
   "source": [
    "python_dict"
   ]
  },
  {
   "cell_type": "code",
   "execution_count": 41,
   "metadata": {},
   "outputs": [],
   "source": [
    "# #in a case where there is mistake in the auto detection of metadata\n",
    "# metadata.update_columns(\n",
    "#     column_names=['age', 'transactions', 'session_length'],\n",
    "#     sdtype='numerical',\n",
    "#     computer_representation='Float'\n",
    "# )"
   ]
  },
  {
   "cell_type": "code",
   "execution_count": 42,
   "metadata": {},
   "outputs": [],
   "source": [
    "# #setting primary key\n",
    "# metadata.set_primary_key(column_name='guest_email')"
   ]
  },
  {
   "cell_type": "code",
   "execution_count": 43,
   "metadata": {},
   "outputs": [],
   "source": [
    "#validating metadata\n",
    "metadata.validate()"
   ]
  },
  {
   "cell_type": "code",
   "execution_count": 44,
   "metadata": {},
   "outputs": [],
   "source": [
    "metadata.validate_data(data=train)"
   ]
  },
  {
   "cell_type": "code",
   "execution_count": 45,
   "metadata": {},
   "outputs": [],
   "source": [
    "from sdv.metadata import SingleTableMetadata\n",
    "\n",
    "metadata.save_to_json(filepath='my_metadata_v1.json')\n",
    "\n",
    "\n"
   ]
  },
  {
   "cell_type": "code",
   "execution_count": 46,
   "metadata": {},
   "outputs": [],
   "source": [
    "metadata = SingleTableMetadata.load_from_json(filepath='my_metadata_v1.json')"
   ]
  },
  {
   "cell_type": "markdown",
   "metadata": {},
   "source": [
    "### Creating a synthesizer\n",
    "An SDV synthesizer is an object that we  use to create synthetic data. It learns patterns from the real data and replicates them to generate synthetic data.\n",
    "\n"
   ]
  },
  {
   "cell_type": "code",
   "execution_count": 47,
   "metadata": {},
   "outputs": [],
   "source": [
    "#fast method\n",
    "from sdv.lite import SingleTablePreset\n",
    "\n",
    "# synthesizer = SingleTablePreset(metadata, name='FAST_ML')\n",
    "# synthesizer.fit(data)\n",
    "\n",
    "# synthetic_data = synthesizer.sample(num_rows=10)\n",
    "\n",
    "\n",
    "from sdv.single_table import GaussianCopulaSynthesizer\n",
    "\n",
    "# Step 1: Create the synthesizer\n",
    "synthesizer = GaussianCopulaSynthesizer(metadata)\n",
    "\n",
    "# Step 2: Train the synthesizer\n",
    "synthesizer.fit(train)\n",
    "\n",
    "# Step 3: Generate synthetic data\n",
    "synthetic_data = synthesizer.sample(num_rows=100)"
   ]
  },
  {
   "cell_type": "code",
   "execution_count": 48,
   "metadata": {},
   "outputs": [
    {
     "name": "stdout",
     "output_type": "stream",
     "text": [
      "Generating report ...\n",
      "(1/2) Evaluating Data Validity: : 100%|██████████| 6/6 [00:00<00:00, 1201.81it/s]\n",
      "(2/2) Evaluating Data Structure: : 100%|██████████| 1/1 [00:00<00:00, 541.13it/s]\n",
      "\n",
      "Overall Score: 100.0%\n",
      "\n",
      "Properties:\n",
      "- Data Validity: 100.0%\n",
      "- Data Structure: 100.0%\n"
     ]
    }
   ],
   "source": [
    "#evaluating our the data with the real ones\n",
    "from sdv.evaluation.single_table import run_diagnostic\n",
    "\n",
    "diagnostic = run_diagnostic(\n",
    "    real_data=train,\n",
    "    synthetic_data=synthetic_data,\n",
    "    metadata=metadata\n",
    ")"
   ]
  },
  {
   "cell_type": "code",
   "execution_count": 49,
   "metadata": {},
   "outputs": [
    {
     "name": "stdout",
     "output_type": "stream",
     "text": [
      "Generating report ...\n",
      "(1/2) Evaluating Column Shapes: : 100%|██████████| 6/6 [00:00<00:00, 752.12it/s]\n",
      "(2/2) Evaluating Column Pair Trends: : 100%|██████████| 15/15 [00:00<00:00, 352.15it/s]\n",
      "\n",
      "Overall Score: 79.75%\n",
      "\n",
      "Properties:\n",
      "- Column Shapes: 62.36%\n",
      "- Column Pair Trends: 97.13%\n"
     ]
    }
   ],
   "source": [
    "#measure the data quality or the statistical similarity between the real and synthetic data.\n",
    "from sdv.evaluation.single_table import evaluate_quality\n",
    "\n",
    "quality_report = evaluate_quality(\n",
    "    train,\n",
    "    synthetic_data,\n",
    "    metadata\n",
    ")"
   ]
  },
  {
   "cell_type": "code",
   "execution_count": 50,
   "metadata": {},
   "outputs": [
    {
     "data": {
      "text/html": [
       "<div>\n",
       "<style scoped>\n",
       "    .dataframe tbody tr th:only-of-type {\n",
       "        vertical-align: middle;\n",
       "    }\n",
       "\n",
       "    .dataframe tbody tr th {\n",
       "        vertical-align: top;\n",
       "    }\n",
       "\n",
       "    .dataframe thead th {\n",
       "        text-align: right;\n",
       "    }\n",
       "</style>\n",
       "<table border=\"1\" class=\"dataframe\">\n",
       "  <thead>\n",
       "    <tr style=\"text-align: right;\">\n",
       "      <th></th>\n",
       "      <th>Column</th>\n",
       "      <th>Metric</th>\n",
       "      <th>Score</th>\n",
       "    </tr>\n",
       "  </thead>\n",
       "  <tbody>\n",
       "    <tr>\n",
       "      <th>0</th>\n",
       "      <td>lcd</td>\n",
       "      <td>KSComplement</td>\n",
       "      <td>0.836678</td>\n",
       "    </tr>\n",
       "    <tr>\n",
       "      <th>1</th>\n",
       "      <td>pld</td>\n",
       "      <td>KSComplement</td>\n",
       "      <td>0.566265</td>\n",
       "    </tr>\n",
       "    <tr>\n",
       "      <th>2</th>\n",
       "      <td>void_fraction</td>\n",
       "      <td>KSComplement</td>\n",
       "      <td>0.915146</td>\n",
       "    </tr>\n",
       "    <tr>\n",
       "      <th>3</th>\n",
       "      <td>surface_area_m2g</td>\n",
       "      <td>KSComplement</td>\n",
       "      <td>0.799088</td>\n",
       "    </tr>\n",
       "    <tr>\n",
       "      <th>4</th>\n",
       "      <td>pressure_0.01(bar)</td>\n",
       "      <td>KSComplement</td>\n",
       "      <td>0.000861</td>\n",
       "    </tr>\n",
       "  </tbody>\n",
       "</table>\n",
       "</div>"
      ],
      "text/plain": [
       "               Column        Metric     Score\n",
       "0                 lcd  KSComplement  0.836678\n",
       "1                 pld  KSComplement  0.566265\n",
       "2       void_fraction  KSComplement  0.915146\n",
       "3    surface_area_m2g  KSComplement  0.799088\n",
       "4  pressure_0.01(bar)  KSComplement  0.000861"
      ]
     },
     "execution_count": 50,
     "metadata": {},
     "output_type": "execute_result"
    }
   ],
   "source": [
    "quality_report.get_details('Column Shapes')"
   ]
  },
  {
   "cell_type": "code",
   "execution_count": 51,
   "metadata": {},
   "outputs": [],
   "source": [
    "# #saving the synthesizing model for future use\n",
    "# from sdv.lite import SingleTablePreset\n",
    "\n",
    "# synthesizer.save('my_synthesizer.pkl')\n",
    "\n",
    "# synthesizer = SingleTablePreset.load('my_synthesizer.pkl')"
   ]
  }
 ],
 "metadata": {
  "kernelspec": {
   "display_name": ".venv",
   "language": "python",
   "name": "python3"
  },
  "language_info": {
   "codemirror_mode": {
    "name": "ipython",
    "version": 3
   },
   "file_extension": ".py",
   "mimetype": "text/x-python",
   "name": "python",
   "nbconvert_exporter": "python",
   "pygments_lexer": "ipython3",
   "version": "3.10.13"
  }
 },
 "nbformat": 4,
 "nbformat_minor": 2
}
